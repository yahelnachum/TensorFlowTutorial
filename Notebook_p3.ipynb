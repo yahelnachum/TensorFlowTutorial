{
 "cells": [
  {
   "cell_type": "code",
   "execution_count": 1,
   "metadata": {},
   "outputs": [
    {
     "name": "stdout",
     "output_type": "stream",
     "text": [
      "Done\n"
     ]
    }
   ],
   "source": [
    "# imports\n",
    "import tensorflow as tf\n",
    "from tensorflow.contrib.learn.python.learn.datasets.mnist import read_data_sets\n",
    "\n",
    "import numpy as np\n",
    "\n",
    "print(\"Done\")"
   ]
  },
  {
   "cell_type": "code",
   "execution_count": 2,
   "metadata": {},
   "outputs": [
    {
     "name": "stdout",
     "output_type": "stream",
     "text": [
      "Successfully downloaded train-images-idx3-ubyte.gz 9912422 bytes.\n",
      "Extracting data\\train-images-idx3-ubyte.gz\n",
      "Successfully downloaded train-labels-idx1-ubyte.gz 28881 bytes.\n",
      "Extracting data\\train-labels-idx1-ubyte.gz\n",
      "Successfully downloaded t10k-images-idx3-ubyte.gz 1648877 bytes.\n",
      "Extracting data\\t10k-images-idx3-ubyte.gz\n",
      "Successfully downloaded t10k-labels-idx1-ubyte.gz 4542 bytes.\n",
      "Extracting data\\t10k-labels-idx1-ubyte.gz\n",
      "Done\n"
     ]
    }
   ],
   "source": [
    "# mnist data set\n",
    "mnist = read_data_sets(\"data\", one_hot=True, reshape=False, validation_size=0)\n",
    "\n",
    "print(\"Done\")"
   ]
  },
  {
   "cell_type": "code",
   "execution_count": 3,
   "metadata": {},
   "outputs": [
    {
     "name": "stdout",
     "output_type": "stream",
     "text": [
      "Length of mnist.train.labels: 60000\n",
      "Length of mnist.train.labels[0]: 10\n",
      "Numbers:                 0,  1,  2,  3,  4,  5,  6,  7,  8,  9\n",
      "mnist.train.labels[0]: [ 0.  0.  0.  0.  0.  1.  0.  0.  0.  0.]\n",
      "Length of mnist.train.images: 60000\n",
      "Length of mnist.train.images[0]: 28\n",
      "Length of mnist.train.images[0][0]: 28\n",
      "Length * Height of image:  784\n",
      "Sample of mnist.train.images[0][12:16][12:16]:\n",
      "\t0.7, 1.0, 0.3, 0.0, \n",
      "\t0.1, 0.9, 0.9, 0.6, \n",
      "\t0.0, 0.3, 0.9, 1.0, \n",
      "\t0.0, 0.0, 0.2, 0.7, \n",
      "Done\n"
     ]
    }
   ],
   "source": [
    "# exploring training data\n",
    "print (\"Length of mnist.train.labels:\", len(mnist.train.labels))\n",
    "print (\"Length of mnist.train.labels[0]:\", len(mnist.train.labels[0]))\n",
    "\n",
    "print (\"Numbers:                 0,  1,  2,  3,  4,  5,  6,  7,  8,  9\")\n",
    "print (\"mnist.train.labels[0]:\", mnist.train.labels[0])\n",
    "\n",
    "print (\"Length of mnist.train.images:\", len(mnist.train.images))\n",
    "print (\"Length of mnist.train.images[0]:\", len(mnist.train.images[0]))\n",
    "print (\"Length of mnist.train.images[0][0]:\", len(mnist.train.images[0][0]))\n",
    "print (\"Length * Height of image: \", len(mnist.train.images[0]) * len(mnist.train.images[0][0]))\n",
    "       \n",
    "print (\"Sample of mnist.train.images[0][12:16][12:16]:\")\n",
    "for y in range(12,16):\n",
    "    imgRow = \"\\t\"\n",
    "    for x in range(12,16):\n",
    "        imgRow += (\"%.1f\" % mnist.train.images[0][y][x][0]) + \", \"\n",
    "    print (imgRow)\n",
    "    \n",
    "print(\"Done\")"
   ]
  },
  {
   "cell_type": "code",
   "execution_count": 4,
   "metadata": {},
   "outputs": [
    {
     "name": "stdout",
     "output_type": "stream",
     "text": [
      "Length of mnist.test.labels: 10000\n",
      "Length of mnist.test.labels[0]: 10\n",
      "Numbers:                0,  1,  2,  3,  4,  5,  6,  7,  8,  9\n",
      "mnist.test.labels[0]: [ 0.  0.  0.  0.  0.  0.  0.  1.  0.  0.]\n",
      "Length of mnist.test.images: 10000\n",
      "Length of mnist.test.images[0]: 28\n",
      "Length of mnist.test.images[0][0]: 28\n",
      "Done\n"
     ]
    }
   ],
   "source": [
    "# exploring test data\n",
    "print (\"Length of mnist.test.labels:\", len(mnist.test.labels))\n",
    "print (\"Length of mnist.test.labels[0]:\", len(mnist.test.labels[0]))\n",
    "\n",
    "print (\"Numbers:                0,  1,  2,  3,  4,  5,  6,  7,  8,  9\")\n",
    "print (\"mnist.test.labels[0]:\", mnist.test.labels[0])\n",
    "\n",
    "print (\"Length of mnist.test.images:\", len(mnist.test.images))\n",
    "print (\"Length of mnist.test.images[0]:\", len(mnist.test.images[0]))\n",
    "print (\"Length of mnist.test.images[0][0]:\", len(mnist.test.images[0][0]))\n",
    "\n",
    "print(\"Done\")"
   ]
  },
  {
   "cell_type": "code",
   "execution_count": 5,
   "metadata": {},
   "outputs": [
    {
     "name": "stdout",
     "output_type": "stream",
     "text": [
      "Done\n"
     ]
    }
   ],
   "source": [
    "# set up a single hidden layer / single neuron network\n",
    "\n",
    "X = tf.placeholder(tf.float32, [None, 28, 28, 1])\n",
    "W = tf.Variable(tf.zeros([784, 10]))\n",
    "b = tf.Variable(tf.zeros([10]))\n",
    "\n",
    "init = tf.global_variables_initializer()\n",
    "\n",
    "print (\"Done\")"
   ]
  },
  {
   "cell_type": "code",
   "execution_count": 6,
   "metadata": {},
   "outputs": [
    {
     "name": "stdout",
     "output_type": "stream",
     "text": [
      "Done\n"
     ]
    }
   ],
   "source": [
    "# model\n",
    "Y = tf.nn.softmax(tf.matmul(tf.reshape(X, [-1, 784]), W) + b)\n",
    "# placeholder for correct labels\n",
    "Y_ = tf.placeholder(tf.float32, [None, 10])\n",
    "\n",
    "# loss function\n",
    "cross_entropy = -tf.reduce_sum(Y_ * tf.log(Y))\n",
    "\n",
    "# % of correct answers found in batch\n",
    "is_correct = tf.equal(tf.argmax(Y,1), tf.argmax(Y_,1))\n",
    "accuracy = tf.reduce_mean(tf.cast(is_correct, tf.float32))\n",
    "\n",
    "optimizer = tf.train.GradientDescentOptimizer(0.003)\n",
    "train_step = optimizer.minimize(cross_entropy)\n",
    "\n",
    "print (\"Done\")"
   ]
  },
  {
   "cell_type": "code",
   "execution_count": 7,
   "metadata": {},
   "outputs": [
    {
     "name": "stdout",
     "output_type": "stream",
     "text": [
      "Done\n"
     ]
    }
   ],
   "source": [
    "sess = tf.Session()\n",
    "sess.run(init)\n",
    "\n",
    "x_value = np.zeros(1000)\n",
    "y_value = np.zeros(1000)\n",
    "for i in range(1000):\n",
    "    # load batch of images and correct answers\n",
    "    batch_X, batch_Y = mnist.train.next_batch(100)\n",
    "    train_data={X: batch_X, Y_: batch_Y}\n",
    "\n",
    "    # train\n",
    "    sess.run(train_step, feed_dict=train_data)\n",
    "    \n",
    "    test_data={X: mnist.test.images, Y_: mnist.test.labels}\n",
    "    a,c = sess.run([accuracy, cross_entropy], feed_dict=test_data)\n",
    "    \n",
    "    x_value[i] = i\n",
    "    \n",
    "print (\"Done\")"
   ]
  },
  {
   "cell_type": "code",
   "execution_count": 8,
   "metadata": {},
   "outputs": [
    {
     "name": "stdout",
     "output_type": "stream",
     "text": [
      "Training Accuracy: 0.92\n",
      "Training Cross Entropy: 26.5637\n",
      "Done\n"
     ]
    }
   ],
   "source": [
    "# success ?\n",
    "a,c = sess.run([accuracy, cross_entropy], feed_dict=train_data)\n",
    "print(\"Training Accuracy:\", a)\n",
    "print(\"Training Cross Entropy:\", c)\n",
    "\n",
    "print (\"Done\")"
   ]
  },
  {
   "cell_type": "code",
   "execution_count": 9,
   "metadata": {},
   "outputs": [
    {
     "name": "stdout",
     "output_type": "stream",
     "text": [
      "Testing Accuracy: 0.9177\n",
      "Testing Cross Entropy: 2957.37\n",
      "Done\n"
     ]
    }
   ],
   "source": [
    "# success on test data ?\n",
    "test_data={X: mnist.test.images, Y_: mnist.test.labels}\n",
    "a,c = sess.run([accuracy, cross_entropy], feed_dict=test_data)\n",
    "print(\"Testing Accuracy:\", a)\n",
    "print(\"Testing Cross Entropy:\", c)\n",
    "\n",
    "\n",
    "print(\"Done\")"
   ]
  },
  {
   "cell_type": "code",
   "execution_count": 10,
   "metadata": {},
   "outputs": [
    {
     "name": "stdout",
     "output_type": "stream",
     "text": [
      "Done\n"
     ]
    }
   ],
   "source": [
    "import matplotlib.pyplot as plt\n",
    "\n",
    "print (\"Done\")"
   ]
  },
  {
   "cell_type": "code",
   "execution_count": 11,
   "metadata": {},
   "outputs": [
    {
     "name": "stdout",
     "output_type": "stream",
     "text": [
      "[ 0.  0.  0.  0.  0.  0.  0.  0.  0.  0.]\n",
      "[ 5.  0.  0.  0.  0.  0.  0.  0.  0.  0.]\n"
     ]
    }
   ],
   "source": [
    "import numpy as np\n",
    "x_value = np.zeros(10)\n",
    "print (x_value)\n",
    "x_value[0] = 5\n",
    "print (x_value)"
   ]
  },
  {
   "cell_type": "code",
   "execution_count": null,
   "metadata": {
    "collapsed": true
   },
   "outputs": [],
   "source": []
  }
 ],
 "metadata": {
  "kernelspec": {
   "display_name": "Python 3",
   "language": "python",
   "name": "python3"
  },
  "language_info": {
   "codemirror_mode": {
    "name": "ipython",
    "version": 3
   },
   "file_extension": ".py",
   "mimetype": "text/x-python",
   "name": "python",
   "nbconvert_exporter": "python",
   "pygments_lexer": "ipython3",
   "version": "3.5.2"
  }
 },
 "nbformat": 4,
 "nbformat_minor": 2
}
